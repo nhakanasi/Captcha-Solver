{
 "cells": [
  {
   "cell_type": "code",
   "execution_count": 1,
   "id": "e23088c5",
   "metadata": {},
   "outputs": [],
   "source": [
    "from trainer import CaptchaTrainer\n",
    "import torch\n",
    "import matplotlib.pyplot as plt\n",
    "import numpy as np"
   ]
  },
  {
   "cell_type": "code",
   "execution_count": 2,
   "id": "82e3f997",
   "metadata": {},
   "outputs": [
    {
     "ename": "AttributeError",
     "evalue": "'OCRData' object has no attribute 'aug'",
     "output_type": "error",
     "traceback": [
      "\u001b[31m---------------------------------------------------------------------------\u001b[39m",
      "\u001b[31mAttributeError\u001b[39m                            Traceback (most recent call last)",
      "\u001b[36mCell\u001b[39m\u001b[36m \u001b[39m\u001b[32mIn[2]\u001b[39m\u001b[32m, line 1\u001b[39m\n\u001b[32m----> \u001b[39m\u001b[32m1\u001b[39m trainer = \u001b[43mCaptchaTrainer\u001b[49m\u001b[43m(\u001b[49m\u001b[43m)\u001b[49m\n\u001b[32m      2\u001b[39m \u001b[38;5;28mprint\u001b[39m(\u001b[33m\"\u001b[39m\u001b[33mTrainer initialized successfully!\u001b[39m\u001b[33m\"\u001b[39m)\n\u001b[32m      3\u001b[39m \u001b[38;5;28mprint\u001b[39m(\u001b[33mf\u001b[39m\u001b[33m\"\u001b[39m\u001b[33mVocabulary size: \u001b[39m\u001b[38;5;132;01m{\u001b[39;00m\u001b[38;5;28mlen\u001b[39m(trainer.vocab)\u001b[38;5;132;01m}\u001b[39;00m\u001b[33m\"\u001b[39m)\n",
      "\u001b[36mFile \u001b[39m\u001b[32mc:\\Users\\ALIENWARE\\OneDrive - Hanoi University of Science and Technology\\HUST\\BKAI\\Self-taught\\Captcha\\trainer.py:16\u001b[39m, in \u001b[36mCaptchaTrainer.__init__\u001b[39m\u001b[34m(self)\u001b[39m\n\u001b[32m     14\u001b[39m \u001b[38;5;28mself\u001b[39m.model, \u001b[38;5;28mself\u001b[39m.vocab = build_model()\n\u001b[32m     15\u001b[39m \u001b[38;5;28mself\u001b[39m.optimizer = AdamW(\u001b[38;5;28mself\u001b[39m.model.parameters(), betas=(\u001b[32m0.9\u001b[39m, \u001b[32m0.98\u001b[39m), eps=\u001b[32m1e-09\u001b[39m)\n\u001b[32m---> \u001b[39m\u001b[32m16\u001b[39m \u001b[38;5;28mself\u001b[39m.train_gen = \u001b[43mOCRData\u001b[49m\u001b[43m(\u001b[49m\u001b[33;43m'\u001b[39;49m\u001b[33;43mannote.txt\u001b[39;49m\u001b[33;43m'\u001b[39;49m\u001b[43m,\u001b[49m\u001b[33;43m'\u001b[39;49m\u001b[33;43mimg\u001b[39;49m\u001b[33;43m'\u001b[39;49m\u001b[43m)\u001b[49m\n\u001b[32m     17\u001b[39m \u001b[38;5;28mself\u001b[39m.batch_size = \u001b[32m16\u001b[39m\n\u001b[32m     18\u001b[39m \u001b[38;5;28mself\u001b[39m.epoch_step = \u001b[38;5;28mlen\u001b[39m(\u001b[38;5;28mself\u001b[39m.train_gen)//\u001b[32m16\u001b[39m\n",
      "\u001b[36mFile \u001b[39m\u001b[32mc:\\Users\\ALIENWARE\\OneDrive - Hanoi University of Science and Technology\\HUST\\BKAI\\Self-taught\\Captcha\\data\\dataloader.py:38\u001b[39m, in \u001b[36mOCRData.__init__\u001b[39m\u001b[34m(self, meta, base_dir)\u001b[39m\n\u001b[32m     36\u001b[39m \u001b[38;5;28;01mdef\u001b[39;00m\u001b[38;5;250m \u001b[39m\u001b[34m__init__\u001b[39m(\u001b[38;5;28mself\u001b[39m, meta, base_dir):\n\u001b[32m     37\u001b[39m     \u001b[38;5;28msuper\u001b[39m().\u001b[34m__init__\u001b[39m()\n\u001b[32m---> \u001b[39m\u001b[32m38\u001b[39m     \u001b[38;5;28;43mself\u001b[39;49m\u001b[43m.\u001b[49m\u001b[43mread_data\u001b[49m\u001b[43m(\u001b[49m\u001b[43mmeta\u001b[49m\u001b[43m)\u001b[49m\n\u001b[32m     39\u001b[39m     \u001b[38;5;28mself\u001b[39m.base_dir = base_dir\n\u001b[32m     40\u001b[39m     \u001b[38;5;28mself\u001b[39m.aug = ImgAugTransformV2()\n",
      "\u001b[36mFile \u001b[39m\u001b[32mc:\\Users\\ALIENWARE\\OneDrive - Hanoi University of Science and Technology\\HUST\\BKAI\\Self-taught\\Captcha\\data\\dataloader.py:49\u001b[39m, in \u001b[36mOCRData.read_data\u001b[39m\u001b[34m(self, path)\u001b[39m\n\u001b[32m     47\u001b[39m \u001b[38;5;28;01mfor\u001b[39;00m line \u001b[38;5;129;01min\u001b[39;00m f:\n\u001b[32m     48\u001b[39m     file, label = line.strip().split(\u001b[33m'\u001b[39m\u001b[38;5;130;01m\\t\u001b[39;00m\u001b[33m'\u001b[39m)\n\u001b[32m---> \u001b[39m\u001b[32m49\u001b[39m     img = process_image(\u001b[38;5;28;43mself\u001b[39;49m\u001b[43m.\u001b[49m\u001b[43maug\u001b[49m(Image.open(\u001b[38;5;28mself\u001b[39m.base_dir+file)))\n\u001b[32m     51\u001b[39m     \u001b[38;5;28mself\u001b[39m.img.append(torch.FloatTensor(img))\n\u001b[32m     53\u001b[39m     \u001b[38;5;28mself\u001b[39m.labels.append(\u001b[38;5;28mself\u001b[39m.vocab.encode(label))\n",
      "\u001b[31mAttributeError\u001b[39m: 'OCRData' object has no attribute 'aug'"
     ]
    }
   ],
   "source": [
    "trainer = CaptchaTrainer()\n",
    "print(\"Trainer initialized successfully!\")\n",
    "print(f\"Vocabulary size: {len(trainer.vocab)}\")\n",
    "print(f\"Training data size: {len(trainer.train_gen)}\")\n",
    "print(f\"Device: {next(trainer.model.parameters()).device}\")\n",
    "\n",
    "num_epochs = 10\n",
    "save_every = 1\n",
    "eval_every = 1 "
   ]
  },
  {
   "cell_type": "code",
   "execution_count": null,
   "id": "542b2bc3",
   "metadata": {},
   "outputs": [],
   "source": [
    "train_losses = []\n",
    "eval_losses = []\n",
    "\n",
    "for epoch in range(1, num_epochs + 1):\n",
    "    print(f\"Epoch {epoch}/{num_epochs} \\n\")\n",
    "    \n",
    "    # Training\n",
    "    trainer.train_epoch(epoch)\n",
    "    epoch_loss = trainer.train_loss[-1]\n",
    "    train_losses.append(epoch_loss)\n",
    "    \n",
    "    print(f\"Training Loss: {epoch_loss:.4f}\")\n",
    "    if epoch % eval_every == 0:\n",
    "        try:\n",
    "            val_loader = torch.utils.data.DataLoader(\n",
    "                trainer.train_gen, \n",
    "                batch_size=8, \n",
    "                shuffle=False, \n",
    "                num_workers=2\n",
    "            )\n",
    "            \n",
    "            eval_loss = trainer.evaluate(val_loader)\n",
    "            eval_losses.append(eval_loss)\n",
    "            print(f\"Validation Loss: {eval_loss:.4f} \\n\")\n",
    "        except Exception as e:\n",
    "            print(f\"Evaluation failed: {e} \\n\")\n",
    "    \n",
    "    # Save checkpoint\n",
    "    if epoch % save_every == 0:\n",
    "        checkpoint_path = f\"checkpoints/model_epoch_{epoch}.pth\"\n",
    "        trainer.save_checkpoint(checkpoint_path)\n",
    "        print(f\"Checkpoint saved: {checkpoint_path} \\n\")\n",
    "    \n",
    "    # Prediction sample\n",
    "    if epoch % eval_every == 0:\n",
    "        try:\n",
    "            pred_sents, actual_sents, _ = trainer.predict(sample=10)\n",
    "            \n",
    "            # Calculate accuracy\n",
    "            correct = sum(1 for pred, actual in zip(pred_sents, actual_sents) if pred.strip() == actual.strip())\n",
    "            accuracy = correct / len(pred_sents) * 100\n",
    "            \n",
    "            print(f\"Sample Accuracy: {accuracy:.2f}% ({correct}/{len(pred_sents)}) \\n\")\n",
    "        except Exception as e:\n",
    "            print(f\"Prediction failed: {e}\")\n",
    "\n",
    "print(\"Training completed! \\n\")"
   ]
  },
  {
   "cell_type": "code",
   "execution_count": null,
   "id": "8153fad3",
   "metadata": {},
   "outputs": [],
   "source": [
    "plt.figure(figsize=(12, 4))\n",
    "\n",
    "plt.subplot(1, 2, 1)\n",
    "plt.plot(range(1, len(train_losses) + 1), train_losses, 'b-', label='Training Loss')\n",
    "if eval_losses:\n",
    "    eval_epochs = list(range(eval_every, len(eval_losses) * eval_every + 1, eval_every))\n",
    "    plt.plot(eval_epochs, eval_losses, 'r-', label='Validation Loss')\n",
    "plt.xlabel('Epoch')\n",
    "plt.ylabel('Loss')\n",
    "plt.title('Training Progress')\n",
    "plt.legend()\n",
    "plt.grid(True)\n",
    "\n",
    "plt.subplot(1, 2, 2)\n",
    "plt.plot(range(1, len(train_losses) + 1), train_losses, 'b-')\n",
    "plt.xlabel('Epoch')\n",
    "plt.ylabel('Training Loss')\n",
    "plt.title('Training Loss Detail')\n",
    "plt.grid(True)\n",
    "\n",
    "plt.tight_layout()\n",
    "plt.show()\n"
   ]
  }
 ],
 "metadata": {
  "kernelspec": {
   "display_name": "Python 3",
   "language": "python",
   "name": "python3"
  },
  "language_info": {
   "codemirror_mode": {
    "name": "ipython",
    "version": 3
   },
   "file_extension": ".py",
   "mimetype": "text/x-python",
   "name": "python",
   "nbconvert_exporter": "python",
   "pygments_lexer": "ipython3",
   "version": "3.12.0"
  }
 },
 "nbformat": 4,
 "nbformat_minor": 5
}
