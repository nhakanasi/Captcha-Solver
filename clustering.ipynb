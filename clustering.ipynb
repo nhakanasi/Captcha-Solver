{
 "cells": [
  {
   "cell_type": "code",
   "execution_count": null,
   "id": "0bc6394b",
   "metadata": {},
   "outputs": [],
   "source": [
    "import numpy as np\n",
    "from torch.utils.data import Dataset\n",
    "from PIL import Image\n",
    "import matplotlib.pyplot as plt\n",
    "import torch\n",
    "\n",
    "def process_image(img):\n",
    "    img = img.resize((200, 80), Image.LANCZOS)  # Fixed size\n",
    "    img = img.convert('L')\n",
    "    img = np.asarray(img)\n",
    "    img = img / 255\n",
    "    return img"
   ]
  },
  {
   "cell_type": "code",
   "execution_count": null,
   "id": "8ef6fe6a",
   "metadata": {},
   "outputs": [],
   "source": [
    "from skimage import feature\n",
    "class OCRData(Dataset):\n",
    "    def __init__(self, meta, base_dir):\n",
    "        super().__init__()\n",
    "        self.base_dir = base_dir\n",
    "        self.read_data(meta)\n",
    "\n",
    "    def read_data(self, path):\n",
    "        self.img = []\n",
    "        with open(path, 'r') as f:\n",
    "            for line in f:\n",
    "                file, _ = line.strip().split()\n",
    "                img = process_image(Image.open(self.base_dir + file))\n",
    "                self.img.append(torch.FloatTensor(img))\n",
    "\n",
    "    def __len__(self):\n",
    "        return len(self.img)\n",
    "\n",
    "    def __getitem__(self, idx):\n",
    "        img = self.img[idx]\n",
    "        return img"
   ]
  },
  {
   "cell_type": "code",
   "execution_count": null,
   "id": "bd51ded1",
   "metadata": {},
   "outputs": [
    {
     "name": "stderr",
     "output_type": "stream",
     "text": [
      "C:\\Users\\ALIENWARE\\AppData\\Local\\Temp\\ipykernel_23344\\61721957.py:14: UserWarning: The given NumPy array is not writable, and PyTorch does not support non-writable tensors. This means writing to this tensor will result in undefined behavior. You may want to copy the array to protect its data or make it writable before converting it to a tensor. This type of warning will be suppressed for the rest of this program. (Triggered internally at C:\\actions-runner\\_work\\pytorch\\pytorch\\pytorch\\torch\\csrc\\utils\\tensor_numpy.cpp:209.)\n",
      "  self.img.append(torch.FloatTensor(img))\n"
     ]
    }
   ],
   "source": [
    "data = OCRData('annote.txt','')"
   ]
  },
  {
   "cell_type": "code",
   "execution_count": null,
   "id": "dd59b3af",
   "metadata": {},
   "outputs": [
    {
     "data": {
      "text/plain": [
       "<matplotlib.image.AxesImage at 0x2a44b625010>"
      ]
     },
     "execution_count": 23,
     "metadata": {},
     "output_type": "execute_result"
    },
    {
     "data": {
      "image/png": "[encoded data removed]",
      "text/plain": [
       "<Figure size 640x480 with 1 Axes>"
      ]
     },
     "metadata": {},
     "output_type": "display_data"
    }
   ],
   "source": [
    "plt.imshow(data[0], cmap='gray')"
   ]
  },
  {
   "cell_type": "code",
   "execution_count": null,
   "id": "707d1124",
   "metadata": {},
   "outputs": [],
   "source": [
    "import numpy as np\n",
    "import cv2\n",
    "from scipy.ndimage import map_coordinates\n",
    "import matplotlib.pyplot as plt\n",
    "\n",
    "def estimate_warp_params(img_np):\n",
    "    \"\"\"\n",
    "    Estimate amplitude, period, and phase of the sine wave distortion.\n",
    "    Assumes vertical sine wave warping along x-axis.\n",
    "    \"\"\"\n",
    "    h, w = img_np.shape[:2]\n",
    "    gray = cv2.cvtColor(img_np, cv2.COLOR_RGB2GRAY)\n",
    "    edges = cv2.Canny(gray, 100, 200)\n",
    "\n",
    "    # Find vertical shifts by tracking edge peaks\n",
    "    shifts = []\n",
    "    for x in range(w):\n",
    "        column = edges[:, x]\n",
    "        peaks = np.where(column > 0)[0]  # y-coordinates of edges\n",
    "        if len(peaks) > 1:  # Need at least two edges to estimate shift\n",
    "            mid_y = np.median(peaks)\n",
    "            shifts.append(mid_y - h / 2)  # Shift from image center\n",
    "        else:\n",
    "            shifts.append(0)\n",
    "\n",
    "    shifts = np.array(shifts)\n",
    "    x = np.arange(w)\n",
    "\n",
    "    # Fit sine wave: y = a * sin(2πx/b + phase)\n",
    "    from scipy.optimize import curve_fit\n",
    "    def sine_func(x, a, b, phase):\n",
    "        return a * np.sin(2 * np.pi * x / b + phase)\n",
    "    \n",
    "    p0 = [30.0, 50.0, 0.0]  # Initial guess: amplitude, period, phase\n",
    "    try:\n",
    "        popt, _ = curve_fit(sine_func, x, shifts, p0=p0, maxfev=5000)\n",
    "        a_est, b_est, phase_est = popt\n",
    "    except RuntimeError:\n",
    "        # Fallback to default values if fitting fails\n",
    "        a_est, b_est, phase_est = 30.0, 50.0, 0.0\n",
    "\n",
    "    return a_est, b_est, phase_est\n",
    "\n",
    "def dewarp_image(img_np):\n",
    "    \"\"\"\n",
    "    General de-warping based on estimated sine wave parameters.\n",
    "    \"\"\"\n",
    "    h, w = img_np.shape[:2]\n",
    "    a, b, phase = estimate_warp_params(img_np)\n",
    "\n",
    "    x, y = np.meshgrid(np.arange(w), np.arange(h))\n",
    "    # Inverse shift: y' = y + a * sin(2πx/b + phase)\n",
    "    y_shift = a * np.sin(2 * np.pi * x / b + phase)\n",
    "    map_y = y + y_shift\n",
    "    map_x = x\n",
    "\n",
    "    dewarped = np.zeros_like(img_np)\n",
    "    for c in range(img_np.shape[2]):\n",
    "        dewarped[:, :, c] = map_coordinates(img_np[:, :, c], [map_y, map_x], order=1, mode='reflect')\n",
    "    \n",
    "    return dewarped.astype(np.uint8)"
   ]
  },
  {
   "cell_type": "code",
   "execution_count": null,
   "id": "980a42ff",
   "metadata": {},
   "outputs": [],
   "source": [
    "def segment_image(self, img_np):\n",
    "    # Visualize original and de-warped\n",
    "    plt.figure(figsize=(10, 4))\n",
    "    plt.subplot(1, 2, 1)\n",
    "    plt.imshow(img_np)\n",
    "    plt.title(\"Original\")\n",
    "    plt.axis('off')\n",
    "\n",
    "    dewarped_img = dewarp_image(img_np)\n",
    "    plt.subplot(1, 2, 2)\n",
    "    plt.imshow(dewarped_img)\n",
    "    plt.title(\"Dewarped\")\n",
    "    plt.axis('off')\n",
    "    plt.show()\n",
    "\n",
    "    # Proceed with segmentation\n",
    "    gray = cv2.cvtColor(dewarped_img, cv2.COLOR_RGB2GRAY)\n",
    "    _, binary = cv2.adaptiveThreshold(gray, 255, cv2.ADAPTIVE_THRESH_GAUSSIAN_C, cv2.THRESH_BINARY_INV, 11, 2)\n",
    "    kernel = np.ones((3, 3), np.uint8)\n",
    "    binary = cv2.morphologyEx(binary, cv2.MORPH_OPEN, kernel)\n",
    "    binary = cv2.morphologyEx(binary, cv2.MORPH_CLOSE, kernel)\n",
    "\n",
    "    dist = cv2.distanceTransform(binary, cv2.DIST_L2, 5)\n",
    "    _, fg = cv2.threshold(dist, 0.5 * dist.max(), 255, 0)  # Lower threshold for sensitivity\n",
    "    fg = np.uint8(fg)\n",
    "    unknown = cv2.subtract(cv2.dilate(binary, None), fg)\n",
    "    _, markers = cv2.connectedComponents(fg)\n",
    "    markers += 1\n",
    "    markers[unknown == 255] = 0\n",
    "    markers = cv2.watershed(dewarped_img, markers)\n",
    "    binary[markers == -1] = 0\n",
    "\n",
    "    contours, _ = cv2.findContours(binary, cv2.RETR_EXTERNAL, cv2.CHAIN_APPROX_SIMPLE)\n",
    "    boxes = sorted([cv2.boundingRect(c) for c in contours if cv2.contourArea(c) > 50], key=lambda b: b[0])\n",
    "\n",
    "    segments = []\n",
    "    if len(boxes) < 1:\n",
    "        for i in range(5):\n",
    "            x_start = i * 40\n",
    "            x_end = min((i + 1) * 40, 200)\n",
    "            crop = dewarped_img[:, x_start:x_end, :]\n",
    "            crop_img = Image.fromarray(crop).resize((40, 80), Image.LANCZOS)\n",
    "            segments.append(crop_img)\n",
    "    else:\n",
    "        for x, y, w, h in boxes:\n",
    "            crop = dewarped_img[:, max(0, x):min(200, x+w), :]\n",
    "            crop_img = Image.fromarray(crop).resize((40, 80), Image.LANCZOS)\n",
    "            segments.append(crop_img)\n",
    "    \n",
    "    while len(segments) < 5:\n",
    "        i = len(segments)\n",
    "        x_start = i * 40\n",
    "        x_end = min((i + 1) * 40, 200)\n",
    "        crop = dewarped_img[:, x_start:x_end, :]\n",
    "        crop_img = Image.fromarray(crop).resize((40, 80), Image.LANCZOS)\n",
    "        segments.append(crop_img)\n",
    "    \n",
    "    # Debug: Visualize segments\n",
    "    fig, axes = plt.subplots(1, 5, figsize=(15, 3))\n",
    "    for ax, seg in zip(axes, segments):\n",
    "        ax.imshow(np.array(seg))\n",
    "        ax.axis('off')\n",
    "    plt.show()\n",
    "    \n",
    "    return segments[:5]"
   ]
  }
 ],
 "metadata": {
  "kernelspec": {
   "display_name": "Python 3",
   "language": "python",
   "name": "python3"
  },
  "language_info": {
   "codemirror_mode": {
    "name": "ipython",
    "version": 3
   },
   "file_extension": ".py",
   "mimetype": "text/x-python",
   "name": "python",
   "nbconvert_exporter": "python",
   "pygments_lexer": "ipython3",
   "version": "3.12.0"
  }
 },
 "nbformat": 4,
 "nbformat_minor": 5
}
